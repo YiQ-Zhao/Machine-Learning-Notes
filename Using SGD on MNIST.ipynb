{
 "cells": [
  {
   "cell_type": "markdown",
   "metadata": {},
   "source": [
    "# Lecture 9"
   ]
  },
  {
   "cell_type": "markdown",
   "metadata": {},
   "source": [
    "## Logistic Regression\n",
    "* What is pickle?\n",
    "https://docs.python.org/2/library/pickle.html\n",
    "* Random forest doesn't need to be normalized. \n",
    "* np.reshape(x_valid, (-1,28,28))\n",
    "* Einstein Summation http://mathworld.wolfram.com/EinsteinSummation.html\n",
    "* 3bluebrown linear algebra youtube\n",
    "* computational linear algebra fast.ai\n",
    "* kaiming he initialization tensorflow"
   ]
  },
  {
   "cell_type": "code",
   "execution_count": null,
   "metadata": {},
   "outputs": [],
   "source": []
  }
 ],
 "metadata": {
  "kernelspec": {
   "display_name": "Python 2",
   "language": "python",
   "name": "python2"
  },
  "language_info": {
   "codemirror_mode": {
    "name": "ipython",
    "version": 2
   },
   "file_extension": ".py",
   "mimetype": "text/x-python",
   "name": "python",
   "nbconvert_exporter": "python",
   "pygments_lexer": "ipython2",
   "version": "2.7.13"
  }
 },
 "nbformat": 4,
 "nbformat_minor": 2
}
