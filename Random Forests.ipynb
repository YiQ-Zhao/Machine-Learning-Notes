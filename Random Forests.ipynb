{
 "cells": [
  {
   "cell_type": "markdown",
   "metadata": {},
   "source": [
    "## Bagging"
   ]
  },
  {
   "cell_type": "markdown",
   "metadata": {},
   "source": [
    "The bagging estimate is defined by \n",
    "$$\\hat{f}(x)=\\frac{1}{B}\\sum^{B}_{b=1}\\hat{f}^{*b}(x)$$"
   ]
  },
  {
   "cell_type": "markdown",
   "metadata": {},
   "source": [
    "Bagging seems to work especially well for high-variance, low-bias procedures, such as trees. The essential idea in bagging is to average noisy but aprroximately unbiased models, and hence reduce the variance.\n"
   ]
  },
  {
   "cell_type": "markdown",
   "metadata": {},
   "source": [
    "## Bootstrap Methods\n",
    "Suppose we have a model fit to set of training data. We denote the training set by $Z = (z_1, z_2, ..., z_N)$ where $z_i = (x_i, y_i)$. The basic idea is to randomly draw datasets with replacement from the training data, each sample the same size as the orignal training set. This is done $B$ times, producing B bootstrap datasets. Then we refit the model to each of the bootstrap datasets, and examine the behavior of the fits over the B replications."
   ]
  },
  {
   "cell_type": "markdown",
   "metadata": {},
   "source": [
    "## Random Forest for Regression or Classfication"
   ]
  },
  {
   "cell_type": "markdown",
   "metadata": {},
   "source": [
    "1. For b = 1 to $B$:  \n",
    "    (a) Draw a bootstrap sample **Z**^\\* size *N* from the training data.  \n",
    "    (b) Grow a random-forest tree $T_b$ to the bootstrapped data, by recursively repeating the following steps for each terminal node of the tree, until the minimum node size $n_{min}$ is reached.  \n",
    "        i. Select m variables at random from the p variables.  \n",
    "        ii. Pick the best variable/split-point among the m.  \n",
    "        iii. Split the node into two daughter nodes.    \n",
    "2. Output the ensemble of trees ${T_b}^B_1$.  \n",
    "\n",
    "To make a prediction at a new point x:  \n",
    "*Regression*: $\\hat{f}^B_{rf}(x) = \\frac{1}{B}\\sum^{B}_{b=1}T_b(x)$.  \n",
    "*Classification*: Let $\\hat{C}_b(x)$ be the class prediction of the *b*th random forest tree. Then $\\hat{C}_{rf}(x) = majority vote{}$"
   ]
  },
  {
   "cell_type": "code",
   "execution_count": null,
   "metadata": {},
   "outputs": [],
   "source": []
  }
 ],
 "metadata": {
  "kernelspec": {
   "display_name": "Python 2",
   "language": "python",
   "name": "python2"
  },
  "language_info": {
   "codemirror_mode": {
    "name": "ipython",
    "version": 2
   },
   "file_extension": ".py",
   "mimetype": "text/x-python",
   "name": "python",
   "nbconvert_exporter": "python",
   "pygments_lexer": "ipython2",
   "version": "2.7.13"
  }
 },
 "nbformat": 4,
 "nbformat_minor": 2
}
